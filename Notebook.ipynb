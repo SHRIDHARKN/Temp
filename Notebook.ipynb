{
 "cells": [
  {
   "cell_type": "markdown",
   "id": "e116e92e",
   "metadata": {},
   "source": [
    "# Problem : Extract numbers from string"
   ]
  },
  {
   "cell_type": "code",
   "execution_count": 1,
   "id": "a52c3f92",
   "metadata": {
    "ExecuteTime": {
     "end_time": "2022-09-08T14:17:30.745664Z",
     "start_time": "2022-09-08T14:17:30.731167Z"
    }
   },
   "outputs": [],
   "source": [
    "import re"
   ]
  },
  {
   "cell_type": "code",
   "execution_count": 2,
   "id": "f568b14f",
   "metadata": {
    "ExecuteTime": {
     "end_time": "2022-09-08T14:17:31.402829Z",
     "start_time": "2022-09-08T14:17:31.390228Z"
    }
   },
   "outputs": [],
   "source": [
    "myStr = \"\"\"{\"orders\":[{\"id\":1},{\"id\":2},{\"id\":3},{\"id\":4},{\"id\":5},{\"id\":6},{\"id\":7},{\"id\":8},{\"id\":9},{\"id\":10},{\"id\":11},{\"id\":648},{\"id\":649},{\"id\":650},{\"id\":651},{\"id\":652},{\"id\":653}],\"errors\":[{\"code\":3,\"message\":\"[PHP Warning #2] count(): Parameter must be an array or an object that implements Countable (153)\"}]}\"\"\""
   ]
  },
  {
   "cell_type": "code",
   "execution_count": 3,
   "id": "8bc249dc",
   "metadata": {
    "ExecuteTime": {
     "end_time": "2022-09-08T14:17:32.057171Z",
     "start_time": "2022-09-08T14:17:32.027284Z"
    }
   },
   "outputs": [
    {
     "data": {
      "text/plain": [
       "[1, 2, 3, 4, 5, 6, 7, 8, 9, 10, 11, 648, 649, 650, 651, 652, 653, 3]"
      ]
     },
     "execution_count": 3,
     "metadata": {},
     "output_type": "execute_result"
    }
   ],
   "source": [
    "results = re.findall(\":\\d+\",myStr)\n",
    "results = [int(x.replace(\":\",\"\")) for x in results]\n",
    "results"
   ]
  },
  {
   "cell_type": "code",
   "execution_count": 4,
   "id": "cfbc100e",
   "metadata": {
    "ExecuteTime": {
     "end_time": "2022-09-08T14:17:32.646284Z",
     "start_time": "2022-09-08T14:17:32.639283Z"
    }
   },
   "outputs": [],
   "source": [
    "def func_extract_nums(myStr):\n",
    "    \n",
    "    results = re.findall(\":\\d+\",myStr)\n",
    "    results = [int(x.replace(\":\",\"\")) for x in results]\n",
    "    return results"
   ]
  },
  {
   "cell_type": "code",
   "execution_count": 5,
   "id": "b244c159",
   "metadata": {
    "ExecuteTime": {
     "end_time": "2022-09-08T14:17:33.897852Z",
     "start_time": "2022-09-08T14:17:33.882849Z"
    }
   },
   "outputs": [
    {
     "data": {
      "text/plain": [
       "[1, 2, 3, 4, 5, 6, 7, 8, 9, 10, 11, 648, 649, 650, 651, 652, 653, 3]"
      ]
     },
     "execution_count": 5,
     "metadata": {},
     "output_type": "execute_result"
    }
   ],
   "source": [
    "func_extract_nums(myStr)"
   ]
  },
  {
   "cell_type": "markdown",
   "id": "1c3a887b",
   "metadata": {},
   "source": [
    "# Problem : Predict whether the customer will check in or not"
   ]
  },
  {
   "cell_type": "code",
   "execution_count": 6,
   "id": "e80c3f8d",
   "metadata": {
    "ExecuteTime": {
     "end_time": "2022-09-08T14:17:42.692073Z",
     "start_time": "2022-09-08T14:17:36.869699Z"
    }
   },
   "outputs": [],
   "source": [
    "import pandas as pd\n",
    "import numpy as np\n",
    "from sklearn.preprocessing import MinMaxScaler\n",
    "from sklearn.model_selection import train_test_split\n",
    "from sklearn.ensemble import RandomForestClassifier\n",
    "from sklearn.metrics import classification_report\n",
    "import matplotlib.pyplot as plt\n",
    "import seaborn as sns\n",
    "\n",
    "import joblib\n",
    "import warnings\n",
    "warnings.simplefilter(\"ignore\")\n",
    "\n",
    "from keras.layers import Dense\n",
    "from keras.models import Sequential\n",
    "import tensorflow as tf"
   ]
  },
  {
   "cell_type": "code",
   "execution_count": 7,
   "id": "e8671bdf",
   "metadata": {
    "ExecuteTime": {
     "end_time": "2022-09-08T14:17:43.794542Z",
     "start_time": "2022-09-08T14:17:43.778661Z"
    }
   },
   "outputs": [],
   "source": [
    "train_file_path = \"D:\\\\Data\\\\Tabular\\\\Hotel Check In\\\\train_data_evaluation_part_2.csv\"\n",
    "test_file_path = \"D:\\\\Data\\\\Tabular\\\\Hotel Check In\\\\test_data_evaluation_part2.csv\""
   ]
  },
  {
   "cell_type": "code",
   "execution_count": 8,
   "id": "f014c09e",
   "metadata": {
    "ExecuteTime": {
     "end_time": "2022-09-08T14:17:45.249423Z",
     "start_time": "2022-09-08T14:17:45.091904Z"
    }
   },
   "outputs": [
    {
     "data": {
      "text/plain": [
       "(82580, 30)"
      ]
     },
     "execution_count": 8,
     "metadata": {},
     "output_type": "execute_result"
    }
   ],
   "source": [
    "# read the data\n",
    "df = pd.read_csv(train_file_path)\n",
    "df.shape"
   ]
  },
  {
   "cell_type": "code",
   "execution_count": 9,
   "id": "eb7c345d",
   "metadata": {
    "ExecuteTime": {
     "end_time": "2022-09-08T14:17:45.995911Z",
     "start_time": "2022-09-08T14:17:45.963130Z"
    }
   },
   "outputs": [
    {
     "data": {
      "text/plain": [
       "Unnamed: 0                 0\n",
       "ID                         0\n",
       "Nationality                0\n",
       "Age                     3746\n",
       "DaysSinceCreation          0\n",
       "AverageLeadTime            0\n",
       "LodgingRevenue             0\n",
       "OtherRevenue               0\n",
       "BookingsCanceled           0\n",
       "BookingsNoShowed           0\n",
       "BookingsCheckedIn          0\n",
       "PersonsNights              0\n",
       "RoomNights                 0\n",
       "DaysSinceLastStay          0\n",
       "DaysSinceFirstStay         0\n",
       "DistributionChannel        0\n",
       "MarketSegment              0\n",
       "SRHighFloor                0\n",
       "SRLowFloor                 0\n",
       "SRAccessibleRoom           0\n",
       "SRMediumFloor              0\n",
       "SRBathtub                  0\n",
       "SRShower                   0\n",
       "SRCrib                     0\n",
       "SRKingSizeBed              0\n",
       "SRTwinBed                  0\n",
       "SRNearElevator             0\n",
       "SRAwayFromElevator         0\n",
       "SRNoAlcoholInMiniBar       0\n",
       "SRQuietRoom                0\n",
       "dtype: int64"
      ]
     },
     "execution_count": 9,
     "metadata": {},
     "output_type": "execute_result"
    }
   ],
   "source": [
    "# check the missing values\n",
    "df.isna().sum()"
   ]
  },
  {
   "cell_type": "code",
   "execution_count": 10,
   "id": "33a01b54",
   "metadata": {
    "ExecuteTime": {
     "end_time": "2022-09-08T14:17:46.830818Z",
     "start_time": "2022-09-08T14:17:46.799029Z"
    }
   },
   "outputs": [],
   "source": [
    "df[\"BookingsCanceled\"] = np.where(df[\"BookingsCanceled\"]>0,1,0)\n",
    "df['BookingsCheckedIn'] = np.where(df['BookingsCheckedIn']>0,True,False)"
   ]
  },
  {
   "cell_type": "code",
   "execution_count": 11,
   "id": "f03f1233",
   "metadata": {
    "ExecuteTime": {
     "end_time": "2022-09-08T14:17:48.218627Z",
     "start_time": "2022-09-08T14:17:48.170950Z"
    }
   },
   "outputs": [],
   "source": [
    "df_can_df = df.loc[df.BookingsCanceled==1].groupby([\"Nationality\"]\\\n",
    "                                                  ).aggregate(\\\n",
    "                                                    num_cancels=(\"BookingsCanceled\",\"count\")).reset_index()\n",
    "df_can_df = df_can_df.sort_values(by=\"num_cancels\",ascending=False)\n",
    "\n",
    "df_non_can_df = df.loc[df.BookingsCanceled==0].groupby([\"Nationality\"]\\\n",
    "                                                  ).aggregate(\\\n",
    "                                                    num_non_cancels=(\"BookingsCanceled\",\"count\")).reset_index()\n",
    "df_non_can_df = df_non_can_df.sort_values(by=\"num_non_cancels\",ascending=False)\n",
    "\n",
    "df_bookings = pd.merge(df_can_df,df_non_can_df,on='Nationality',how='inner')\n",
    "df_bookings['cancellation_percentage'] = 100*round(df_bookings['num_cancels']/\\\n",
    "                                                (df_bookings['num_cancels']+df_bookings['num_non_cancels']),2)\n",
    "df_bookings = df_bookings.sort_values(\"cancellation_percentage\",ascending=False)"
   ]
  },
  {
   "cell_type": "code",
   "execution_count": 12,
   "id": "fd53fdfa",
   "metadata": {
    "ExecuteTime": {
     "end_time": "2022-09-08T14:17:49.465965Z",
     "start_time": "2022-09-08T14:17:49.317135Z"
    }
   },
   "outputs": [
    {
     "data": {
      "image/png": "[encoded data removed]",
      "text/plain": [
       "<Figure size 576x288 with 1 Axes>"
      ]
     },
     "metadata": {
      "needs_background": "light"
     },
     "output_type": "display_data"
    }
   ],
   "source": [
    "plt.figure(figsize=(8,4))\n",
    "sns.barplot(x=\"Nationality\",y=\"cancellation_percentage\",data=df_bookings.head(8),palette=\"bright\")\n",
    "plt.xlabel(\"Nationality\")\n",
    "plt.ylabel(\"Cancellation%\");"
   ]
  },
  {
   "cell_type": "code",
   "execution_count": 13,
   "id": "477cd687",
   "metadata": {
    "ExecuteTime": {
     "end_time": "2022-09-08T14:17:50.216961Z",
     "start_time": "2022-09-08T14:17:50.199600Z"
    }
   },
   "outputs": [],
   "source": [
    "# One of the features can be if the Nationality is in [\"NAM\",\"GRC\",\"CYP\",\"ZAP\",\"DZA\",\"PRT\"], rest all\n",
    "# can be tagged as others"
   ]
  },
  {
   "cell_type": "code",
   "execution_count": 14,
   "id": "a4f1bc74",
   "metadata": {
    "ExecuteTime": {
     "end_time": "2022-09-08T14:17:51.100319Z",
     "start_time": "2022-09-08T14:17:51.076235Z"
    }
   },
   "outputs": [
    {
     "data": {
      "text/plain": [
       "Others    70819\n",
       "PRT       11382\n",
       "GRC         238\n",
       "DZA          77\n",
       "CYP          57\n",
       "NAM           7\n",
       "Name: Nationality, dtype: int64"
      ]
     },
     "execution_count": 14,
     "metadata": {},
     "output_type": "execute_result"
    }
   ],
   "source": [
    "Nationality_Concern = [\"NAM\",\"GRC\",\"CYP\",\"ZAP\",\"DZA\",\"PRT\"]\n",
    "df[\"Nationality\"] = np.where(~df[\"Nationality\"].isin(Nationality_Concern),\"Others\",df[\"Nationality\"])\n",
    "df[\"Nationality\"].value_counts()"
   ]
  },
  {
   "cell_type": "code",
   "execution_count": 15,
   "id": "8ba00fba",
   "metadata": {
    "ExecuteTime": {
     "end_time": "2022-09-08T14:17:52.165827Z",
     "start_time": "2022-09-08T14:17:51.925859Z"
    }
   },
   "outputs": [
    {
     "data": {
      "image/png": "[encoded data removed]",
      "text/plain": [
       "<Figure size 576x288 with 1 Axes>"
      ]
     },
     "metadata": {
      "needs_background": "light"
     },
     "output_type": "display_data"
    }
   ],
   "source": [
    "# Higher since the day of creation, higher the probability of check in\n",
    "plt.figure(figsize=(8,4))\n",
    "sns.histplot(data = df,x=\"DaysSinceCreation\",hue=\"BookingsCheckedIn\",palette=\"bright\")\n",
    "plt.grid(True);"
   ]
  },
  {
   "cell_type": "code",
   "execution_count": 16,
   "id": "a6052f94",
   "metadata": {
    "ExecuteTime": {
     "end_time": "2022-09-08T14:17:52.820419Z",
     "start_time": "2022-09-08T14:17:52.790343Z"
    }
   },
   "outputs": [
    {
     "data": {
      "text/plain": [
       "count    82580.000000\n",
       "mean        66.557205\n",
       "std         87.928995\n",
       "min         -1.000000\n",
       "25%          0.000000\n",
       "50%         30.000000\n",
       "75%        104.000000\n",
       "max        588.000000\n",
       "Name: AverageLeadTime, dtype: float64"
      ]
     },
     "execution_count": 16,
     "metadata": {},
     "output_type": "execute_result"
    }
   ],
   "source": [
    "df['AverageLeadTime'].describe()"
   ]
  },
  {
   "cell_type": "code",
   "execution_count": 17,
   "id": "a1358590",
   "metadata": {
    "ExecuteTime": {
     "end_time": "2022-09-08T14:17:54.086046Z",
     "start_time": "2022-09-08T14:17:53.612950Z"
    }
   },
   "outputs": [
    {
     "data": {
      "image/png": "[encoded data removed]",
      "text/plain": [
       "<Figure size 576x288 with 1 Axes>"
      ]
     },
     "metadata": {
      "needs_background": "light"
     },
     "output_type": "display_data"
    }
   ],
   "source": [
    "# If the average lead time is close to zero, then higher the probability of not checking in.\n",
    "# But lead time cannot be negative. Hence those data needs to be removed.\n",
    "\n",
    "plt.figure(figsize=(8,4))\n",
    "sns.histplot(data = df,x=\"AverageLeadTime\",hue=\"BookingsCheckedIn\",palette=\"bright\")\n",
    "plt.grid(True);"
   ]
  },
  {
   "cell_type": "code",
   "execution_count": 18,
   "id": "acb66edd",
   "metadata": {
    "ExecuteTime": {
     "end_time": "2022-09-08T14:17:55.166381Z",
     "start_time": "2022-09-08T14:17:55.140610Z"
    }
   },
   "outputs": [
    {
     "data": {
      "text/plain": [
       "(82570, 30)"
      ]
     },
     "execution_count": 18,
     "metadata": {},
     "output_type": "execute_result"
    }
   ],
   "source": [
    "# removing records where customer hasn't arrived yet after booking,nor has cancelled the booking.\n",
    "df = df.loc[df.AverageLeadTime>=0]\n",
    "df.shape"
   ]
  },
  {
   "cell_type": "code",
   "execution_count": 19,
   "id": "4a56d06a",
   "metadata": {
    "ExecuteTime": {
     "end_time": "2022-09-08T14:17:56.100846Z",
     "start_time": "2022-09-08T14:17:56.079281Z"
    }
   },
   "outputs": [
    {
     "data": {
      "text/plain": [
       "Likely       60413\n",
       "NotLikely    22157\n",
       "Name: AverageLeadTime, dtype: int64"
      ]
     },
     "execution_count": 19,
     "metadata": {},
     "output_type": "execute_result"
    }
   ],
   "source": [
    "df[\"AverageLeadTime\"] = np.where(df[\"AverageLeadTime\"]>0,\"Likely\",\"NotLikely\")\n",
    "df[\"AverageLeadTime\"].value_counts()"
   ]
  },
  {
   "cell_type": "code",
   "execution_count": 20,
   "id": "f1e046d5",
   "metadata": {
    "ExecuteTime": {
     "end_time": "2022-09-08T14:17:57.003337Z",
     "start_time": "2022-09-08T14:17:56.980307Z"
    }
   },
   "outputs": [
    {
     "data": {
      "text/plain": [
       "count    82570.000000\n",
       "mean       300.472559\n",
       "std        373.356022\n",
       "min          0.000000\n",
       "25%         66.327500\n",
       "50%        234.000000\n",
       "75%        403.915000\n",
       "max      21781.000000\n",
       "Name: LodgingRevenue, dtype: float64"
      ]
     },
     "execution_count": 20,
     "metadata": {},
     "output_type": "execute_result"
    }
   ],
   "source": [
    "df['LodgingRevenue'].describe()"
   ]
  },
  {
   "cell_type": "code",
   "execution_count": 21,
   "id": "f5f459c9",
   "metadata": {
    "ExecuteTime": {
     "end_time": "2022-09-08T14:18:00.981330Z",
     "start_time": "2022-09-08T14:17:57.846750Z"
    },
    "scrolled": true
   },
   "outputs": [
    {
     "data": {
      "image/png": "[encoded data removed]",
      "text/plain": [
       "<Figure size 576x288 with 1 Axes>"
      ]
     },
     "metadata": {
      "needs_background": "light"
     },
     "output_type": "display_data"
    }
   ],
   "source": [
    "# loding revenue greater than 0 previously, then there is a high chance of check in. \n",
    "plt.figure(figsize=(8,4))\n",
    "sns.histplot(data = df,x=\"LodgingRevenue\",hue=\"BookingsCheckedIn\",palette=\"bright\")\n",
    "plt.xlim(0,np.quantile(df[\"LodgingRevenue\"],0.95))\n",
    "plt.grid(True);"
   ]
  },
  {
   "cell_type": "code",
   "execution_count": 22,
   "id": "f1123d5e",
   "metadata": {
    "ExecuteTime": {
     "end_time": "2022-09-08T14:18:01.974066Z",
     "start_time": "2022-09-08T14:18:01.966746Z"
    }
   },
   "outputs": [],
   "source": [
    "max_lim = np.quantile(df[\"LodgingRevenue\"],0.95)\n",
    "df[\"LodgingRevenue\"] = np.where(df[\"LodgingRevenue\"]>max_lim,max_lim,df[\"LodgingRevenue\"])"
   ]
  },
  {
   "cell_type": "code",
   "execution_count": 23,
   "id": "fe544d73",
   "metadata": {
    "ExecuteTime": {
     "end_time": "2022-09-08T14:18:02.614626Z",
     "start_time": "2022-09-08T14:18:02.598400Z"
    }
   },
   "outputs": [
    {
     "data": {
      "text/plain": [
       "count    82570.000000\n",
       "mean        67.897385\n",
       "std        114.501149\n",
       "min          0.000000\n",
       "25%          2.000000\n",
       "50%         39.000000\n",
       "75%         88.000000\n",
       "max       7730.250000\n",
       "Name: OtherRevenue, dtype: float64"
      ]
     },
     "execution_count": 23,
     "metadata": {},
     "output_type": "execute_result"
    }
   ],
   "source": [
    "df['OtherRevenue'].describe()"
   ]
  },
  {
   "cell_type": "code",
   "execution_count": 24,
   "id": "de2f8e73",
   "metadata": {
    "ExecuteTime": {
     "end_time": "2022-09-08T14:18:07.934486Z",
     "start_time": "2022-09-08T14:18:03.575064Z"
    }
   },
   "outputs": [
    {
     "data": {
      "image/png": "[encoded data removed]",
      "text/plain": [
       "<Figure size 576x288 with 1 Axes>"
      ]
     },
     "metadata": {
      "needs_background": "light"
     },
     "output_type": "display_data"
    }
   ],
   "source": [
    "plt.figure(figsize=(8,4))\n",
    "sns.histplot(data = df,x=\"OtherRevenue\",hue=\"BookingsCheckedIn\",palette=\"bright\")\n",
    "plt.xlim(0,np.quantile(df[\"OtherRevenue\"],0.95))\n",
    "plt.grid(True);"
   ]
  },
  {
   "cell_type": "code",
   "execution_count": 25,
   "id": "8cdc7ab6",
   "metadata": {
    "ExecuteTime": {
     "end_time": "2022-09-08T14:18:09.327782Z",
     "start_time": "2022-09-08T14:18:09.317267Z"
    }
   },
   "outputs": [],
   "source": [
    "# similarly for other rev\n",
    "max_lim = np.quantile(df[\"OtherRevenue\"],0.95)\n",
    "df[\"OtherRevenue\"] = np.where(df[\"OtherRevenue\"]>max_lim,max_lim,df[\"OtherRevenue\"])"
   ]
  },
  {
   "cell_type": "code",
   "execution_count": 26,
   "id": "b68c8115",
   "metadata": {
    "ExecuteTime": {
     "end_time": "2022-09-08T14:18:10.912218Z",
     "start_time": "2022-09-08T14:18:10.877315Z"
    }
   },
   "outputs": [
    {
     "data": {
      "text/html": [
       "<div>\n",
       "<style scoped>\n",
       "    .dataframe tbody tr th:only-of-type {\n",
       "        vertical-align: middle;\n",
       "    }\n",
       "\n",
       "    .dataframe tbody tr th {\n",
       "        vertical-align: top;\n",
       "    }\n",
       "\n",
       "    .dataframe thead th {\n",
       "        text-align: right;\n",
       "    }\n",
       "</style>\n",
       "<table border=\"1\" class=\"dataframe\">\n",
       "  <thead>\n",
       "    <tr style=\"text-align: right;\">\n",
       "      <th></th>\n",
       "      <th>RoomNights</th>\n",
       "      <th>PersonsNights</th>\n",
       "    </tr>\n",
       "  </thead>\n",
       "  <tbody>\n",
       "    <tr>\n",
       "      <th>count</th>\n",
       "      <td>82570.000000</td>\n",
       "      <td>82570.000000</td>\n",
       "    </tr>\n",
       "    <tr>\n",
       "      <th>mean</th>\n",
       "      <td>2.369577</td>\n",
       "      <td>4.668245</td>\n",
       "    </tr>\n",
       "    <tr>\n",
       "      <th>std</th>\n",
       "      <td>2.281846</td>\n",
       "      <td>4.562704</td>\n",
       "    </tr>\n",
       "    <tr>\n",
       "      <th>min</th>\n",
       "      <td>0.000000</td>\n",
       "      <td>0.000000</td>\n",
       "    </tr>\n",
       "    <tr>\n",
       "      <th>25%</th>\n",
       "      <td>1.000000</td>\n",
       "      <td>1.000000</td>\n",
       "    </tr>\n",
       "    <tr>\n",
       "      <th>50%</th>\n",
       "      <td>2.000000</td>\n",
       "      <td>4.000000</td>\n",
       "    </tr>\n",
       "    <tr>\n",
       "      <th>75%</th>\n",
       "      <td>4.000000</td>\n",
       "      <td>7.000000</td>\n",
       "    </tr>\n",
       "    <tr>\n",
       "      <th>max</th>\n",
       "      <td>185.000000</td>\n",
       "      <td>116.000000</td>\n",
       "    </tr>\n",
       "  </tbody>\n",
       "</table>\n",
       "</div>"
      ],
      "text/plain": [
       "         RoomNights  PersonsNights\n",
       "count  82570.000000   82570.000000\n",
       "mean       2.369577       4.668245\n",
       "std        2.281846       4.562704\n",
       "min        0.000000       0.000000\n",
       "25%        1.000000       1.000000\n",
       "50%        2.000000       4.000000\n",
       "75%        4.000000       7.000000\n",
       "max      185.000000     116.000000"
      ]
     },
     "execution_count": 26,
     "metadata": {},
     "output_type": "execute_result"
    }
   ],
   "source": [
    "df[[\"RoomNights\",\"PersonsNights\"]].describe()"
   ]
  },
  {
   "cell_type": "code",
   "execution_count": 27,
   "id": "1db942a8",
   "metadata": {
    "ExecuteTime": {
     "end_time": "2022-09-08T14:18:12.123104Z",
     "start_time": "2022-09-08T14:18:12.103351Z"
    }
   },
   "outputs": [],
   "source": [
    "# similarly for other variables\n",
    "max_lim = np.quantile(df[\"RoomNights\"],0.95)\n",
    "df[\"RoomNights\"] = np.where(df[\"RoomNights\"]>max_lim,max_lim,df[\"RoomNights\"])\n",
    "\n",
    "max_lim = np.quantile(df[\"PersonsNights\"],0.95)\n",
    "df[\"PersonsNights\"] = np.where(df[\"PersonsNights\"]>max_lim,max_lim,df[\"PersonsNights\"])"
   ]
  },
  {
   "cell_type": "code",
   "execution_count": 28,
   "id": "4cbfde39",
   "metadata": {
    "ExecuteTime": {
     "end_time": "2022-09-08T14:18:15.716505Z",
     "start_time": "2022-09-08T14:18:14.047141Z"
    }
   },
   "outputs": [
    {
     "data": {
      "image/png": "[encoded data removed]",
      "text/plain": [
       "<Figure size 576x288 with 1 Axes>"
      ]
     },
     "metadata": {
      "needs_background": "light"
     },
     "output_type": "display_data"
    }
   ],
   "source": [
    "# Very high probability of check in if person nights previously is >0\n",
    "plt.figure(figsize=(8,4))\n",
    "sns.scatterplot(data=df,x=\"PersonsNights\",y=\"RoomNights\",hue=\"BookingsCheckedIn\",s=100,palette=\"bright\")\n",
    "plt.grid(True);"
   ]
  },
  {
   "cell_type": "code",
   "execution_count": 29,
   "id": "51eca41a",
   "metadata": {
    "ExecuteTime": {
     "end_time": "2022-09-08T14:18:17.806039Z",
     "start_time": "2022-09-08T14:18:17.768029Z"
    }
   },
   "outputs": [],
   "source": [
    "df_can_df = df.loc[df.BookingsCanceled==1].groupby([\"DistributionChannel\"]\\\n",
    "                                                  ).aggregate(\\\n",
    "                                                    num_cancels=(\"BookingsCanceled\",\"count\")).reset_index()\n",
    "df_can_df = df_can_df.sort_values(by=\"num_cancels\",ascending=False)\n",
    "\n",
    "df_non_can_df = df.loc[df.BookingsCanceled==0].groupby([\"DistributionChannel\"]\\\n",
    "                                                  ).aggregate(\\\n",
    "                                                    num_non_cancels=(\"BookingsCanceled\",\"count\")).reset_index()\n",
    "df_non_can_df = df_non_can_df.sort_values(by=\"num_non_cancels\",ascending=False)\n",
    "\n",
    "df_bookings = pd.merge(df_can_df,df_non_can_df,on='DistributionChannel',how='inner')\n",
    "df_bookings['cancellation_percentage'] = 100*round(df_bookings['num_cancels']/\\\n",
    "                                                (df_bookings['num_cancels']+df_bookings['num_non_cancels']),2)\n",
    "df_bookings = df_bookings.sort_values(\"cancellation_percentage\",ascending=False)"
   ]
  },
  {
   "cell_type": "code",
   "execution_count": 30,
   "id": "e87e1330",
   "metadata": {
    "ExecuteTime": {
     "end_time": "2022-09-08T14:18:18.970941Z",
     "start_time": "2022-09-08T14:18:18.962187Z"
    }
   },
   "outputs": [
    {
     "data": {
      "text/html": [
       "<div>\n",
       "<style scoped>\n",
       "    .dataframe tbody tr th:only-of-type {\n",
       "        vertical-align: middle;\n",
       "    }\n",
       "\n",
       "    .dataframe tbody tr th {\n",
       "        vertical-align: top;\n",
       "    }\n",
       "\n",
       "    .dataframe thead th {\n",
       "        text-align: right;\n",
       "    }\n",
       "</style>\n",
       "<table border=\"1\" class=\"dataframe\">\n",
       "  <thead>\n",
       "    <tr style=\"text-align: right;\">\n",
       "      <th></th>\n",
       "      <th>DistributionChannel</th>\n",
       "      <th>num_cancels</th>\n",
       "      <th>num_non_cancels</th>\n",
       "      <th>cancellation_percentage</th>\n",
       "    </tr>\n",
       "  </thead>\n",
       "  <tbody>\n",
       "    <tr>\n",
       "      <th>0</th>\n",
       "      <td>Corporate</td>\n",
       "      <td>80</td>\n",
       "      <td>2485</td>\n",
       "      <td>3.0</td>\n",
       "    </tr>\n",
       "    <tr>\n",
       "      <th>1</th>\n",
       "      <td>Direct</td>\n",
       "      <td>28</td>\n",
       "      <td>11681</td>\n",
       "      <td>0.0</td>\n",
       "    </tr>\n",
       "    <tr>\n",
       "      <th>2</th>\n",
       "      <td>Travel Agent/Operator</td>\n",
       "      <td>10</td>\n",
       "      <td>67778</td>\n",
       "      <td>0.0</td>\n",
       "    </tr>\n",
       "  </tbody>\n",
       "</table>\n",
       "</div>"
      ],
      "text/plain": [
       "     DistributionChannel  num_cancels  num_non_cancels  \\\n",
       "0              Corporate           80             2485   \n",
       "1                 Direct           28            11681   \n",
       "2  Travel Agent/Operator           10            67778   \n",
       "\n",
       "   cancellation_percentage  \n",
       "0                      3.0  \n",
       "1                      0.0  \n",
       "2                      0.0  "
      ]
     },
     "execution_count": 30,
     "metadata": {},
     "output_type": "execute_result"
    }
   ],
   "source": [
    "df_bookings"
   ]
  },
  {
   "cell_type": "code",
   "execution_count": 31,
   "id": "630b70cf",
   "metadata": {
    "ExecuteTime": {
     "end_time": "2022-09-08T14:18:19.986990Z",
     "start_time": "2022-09-08T14:18:19.905330Z"
    }
   },
   "outputs": [
    {
     "data": {
      "image/png": "[encoded data removed]",
      "text/plain": [
       "<Figure size 576x288 with 1 Axes>"
      ]
     },
     "metadata": {
      "needs_background": "light"
     },
     "output_type": "display_data"
    }
   ],
   "source": [
    "# Usually corporate channel have highest cancellation %\n",
    "plt.figure(figsize=(8,4))\n",
    "sns.barplot(x=\"DistributionChannel\",y=\"cancellation_percentage\",data=df_bookings,palette=\"bright\")\n",
    "plt.xlabel(\"DistributionChannel\")\n",
    "plt.ylabel(\"Cancellation%\");"
   ]
  },
  {
   "cell_type": "code",
   "execution_count": 32,
   "id": "5e2a58af",
   "metadata": {
    "ExecuteTime": {
     "end_time": "2022-09-08T14:18:22.691941Z",
     "start_time": "2022-09-08T14:18:22.650674Z"
    }
   },
   "outputs": [
    {
     "data": {
      "text/plain": [
       "Non Corporate    80005\n",
       "Corporate         2565\n",
       "Name: DistributionChannel, dtype: int64"
      ]
     },
     "execution_count": 32,
     "metadata": {},
     "output_type": "execute_result"
    }
   ],
   "source": [
    "df[\"DistributionChannel\"] = np.where(df[\"DistributionChannel\"]==\"Corporate\",\"Corporate\",\"Non Corporate\")\n",
    "df[\"DistributionChannel\"].value_counts()"
   ]
  },
  {
   "cell_type": "code",
   "execution_count": 33,
   "id": "a6bdf704",
   "metadata": {
    "ExecuteTime": {
     "end_time": "2022-09-08T14:18:24.130151Z",
     "start_time": "2022-09-08T14:18:24.082412Z"
    }
   },
   "outputs": [],
   "source": [
    "df_can_df = df.loc[df.BookingsCanceled==1].groupby([\"MarketSegment\"]\\\n",
    "                                                  ).aggregate(\\\n",
    "                                                    num_cancels=(\"BookingsCanceled\",\"count\")).reset_index()\n",
    "df_can_df = df_can_df.sort_values(by=\"num_cancels\",ascending=False)\n",
    "\n",
    "df_non_can_df = df.loc[df.BookingsCanceled==0].groupby([\"MarketSegment\"]\\\n",
    "                                                  ).aggregate(\\\n",
    "                                                    num_non_cancels=(\"BookingsCanceled\",\"count\")).reset_index()\n",
    "df_non_can_df = df_non_can_df.sort_values(by=\"num_non_cancels\",ascending=False)\n",
    "\n",
    "df_bookings = pd.merge(df_can_df,df_non_can_df,on='MarketSegment',how='inner')\n",
    "df_bookings['cancellation_percentage'] = 100*round(df_bookings['num_cancels']/\\\n",
    "                                                (df_bookings['num_cancels']+df_bookings['num_non_cancels']),2)\n",
    "df_bookings = df_bookings.sort_values(\"cancellation_percentage\",ascending=False)"
   ]
  },
  {
   "cell_type": "code",
   "execution_count": 34,
   "id": "292d1701",
   "metadata": {
    "ExecuteTime": {
     "end_time": "2022-09-08T14:18:25.056905Z",
     "start_time": "2022-09-08T14:18:24.953106Z"
    }
   },
   "outputs": [
    {
     "data": {
      "image/png": "[encoded data removed]",
      "text/plain": [
       "<Figure size 576x288 with 1 Axes>"
      ]
     },
     "metadata": {
      "needs_background": "light"
     },
     "output_type": "display_data"
    }
   ],
   "source": [
    "# Usually corporate channel have highest cancellation %\n",
    "plt.figure(figsize=(8,4))\n",
    "sns.barplot(x=\"MarketSegment\",y=\"cancellation_percentage\",data=df_bookings,palette=\"bright\")\n",
    "plt.xlabel(\"MarketSegment\")\n",
    "plt.ylabel(\"Cancellation%\");"
   ]
  },
  {
   "cell_type": "code",
   "execution_count": 35,
   "id": "6a9842da",
   "metadata": {
    "ExecuteTime": {
     "end_time": "2022-09-08T14:18:25.878781Z",
     "start_time": "2022-09-08T14:18:25.859871Z"
    }
   },
   "outputs": [
    {
     "data": {
      "text/plain": [
       "Other                    47447\n",
       "Travel Agent/Operator    11482\n",
       "Direct                   11278\n",
       "Groups                    9501\n",
       "Corporate                 2135\n",
       "Complementary              484\n",
       "Aviation                   243\n",
       "Name: MarketSegment, dtype: int64"
      ]
     },
     "execution_count": 35,
     "metadata": {},
     "output_type": "execute_result"
    }
   ],
   "source": [
    "df.MarketSegment.value_counts()"
   ]
  },
  {
   "cell_type": "code",
   "execution_count": 36,
   "id": "b07cb983",
   "metadata": {
    "ExecuteTime": {
     "end_time": "2022-09-08T14:18:26.734545Z",
     "start_time": "2022-09-08T14:18:26.708543Z"
    }
   },
   "outputs": [
    {
     "data": {
      "text/plain": [
       "Others           79708\n",
       "Corporate         2135\n",
       "Complementary      484\n",
       "Aviation           243\n",
       "Name: MarketSegment, dtype: int64"
      ]
     },
     "execution_count": 36,
     "metadata": {},
     "output_type": "execute_result"
    }
   ],
   "source": [
    "Market_Segment_Concern = [\"Aviation\",\"Complementary\",\"Corporate\"]\n",
    "df[\"MarketSegment\"] = np.where(~df[\"MarketSegment\"].isin(Market_Segment_Concern),\"Others\",df[\"MarketSegment\"])\n",
    "df[\"MarketSegment\"].value_counts()"
   ]
  },
  {
   "cell_type": "code",
   "execution_count": 37,
   "id": "e0813d9b",
   "metadata": {
    "ExecuteTime": {
     "end_time": "2022-09-08T14:18:28.596832Z",
     "start_time": "2022-09-08T14:18:28.375922Z"
    }
   },
   "outputs": [
    {
     "data": {
      "image/png": "[encoded data removed]",
      "text/plain": [
       "<Figure size 576x288 with 1 Axes>"
      ]
     },
     "metadata": {
      "needs_background": "light"
     },
     "output_type": "display_data"
    }
   ],
   "source": [
    "plt.figure(figsize=(8,4))\n",
    "sns.histplot(df[\"Age\"],color=\"blue\")\n",
    "plt.grid(True);"
   ]
  },
  {
   "cell_type": "code",
   "execution_count": 38,
   "id": "c9af3793",
   "metadata": {
    "ExecuteTime": {
     "end_time": "2022-09-08T14:18:30.446714Z",
     "start_time": "2022-09-08T14:18:30.430108Z"
    }
   },
   "outputs": [],
   "source": [
    "# Age cannot be 0. Values that are lower than quantile 0.05 and greater than 0.95 are capped.\n",
    "\n",
    "max_val_lim_feat = df[\"Age\"].quantile(0.95)\n",
    "min_val_lim_feat = df[\"Age\"].quantile(0.05)\n",
    "\n",
    "df[\"Age\"] = np.where(df[\"Age\"]>max_val_lim_feat,max_val_lim_feat,df[\"Age\"])\n",
    "df[\"Age\"] = np.where(df[\"Age\"]<min_val_lim_feat,min_val_lim_feat,df[\"Age\"])\n",
    "df[\"Age\"] = np.where(df.Age.isna(),df.Age.median(),df.Age)"
   ]
  },
  {
   "cell_type": "code",
   "execution_count": 39,
   "id": "2e0eb13a",
   "metadata": {
    "ExecuteTime": {
     "end_time": "2022-09-08T14:18:33.386890Z",
     "start_time": "2022-09-08T14:18:33.361408Z"
    }
   },
   "outputs": [],
   "source": [
    "df.drop([\"Unnamed: 0\",\"BookingsNoShowed\",\"BookingsCanceled\"],axis=1,inplace=True)"
   ]
  },
  {
   "cell_type": "code",
   "execution_count": 40,
   "id": "d1fba415",
   "metadata": {
    "ExecuteTime": {
     "end_time": "2022-09-08T14:18:35.782394Z",
     "start_time": "2022-09-08T14:18:35.773396Z"
    }
   },
   "outputs": [],
   "source": [
    "# segregate feature columns and non feature columns.\n",
    "TARGET = \"BookingsCheckedIn\"\n",
    "ID_COLUMN = \"ID\"\n",
    "\n",
    "non_feat_cols = [ID_COLUMN,TARGET]\n",
    "feat_cols = [x for x in df.columns if x not in non_feat_cols]\n",
    "cat_cols = [x for x in feat_cols if df[x].dtype=='O']"
   ]
  },
  {
   "cell_type": "code",
   "execution_count": 41,
   "id": "33d4b67b",
   "metadata": {
    "ExecuteTime": {
     "end_time": "2022-09-08T14:18:37.366406Z",
     "start_time": "2022-09-08T14:18:37.350873Z"
    }
   },
   "outputs": [
    {
     "data": {
      "text/plain": [
       "['Nationality', 'AverageLeadTime', 'DistributionChannel', 'MarketSegment']"
      ]
     },
     "execution_count": 41,
     "metadata": {},
     "output_type": "execute_result"
    }
   ],
   "source": [
    "cat_cols"
   ]
  },
  {
   "cell_type": "code",
   "execution_count": 42,
   "id": "7ebe8b02",
   "metadata": {
    "ExecuteTime": {
     "end_time": "2022-09-08T14:18:38.795659Z",
     "start_time": "2022-09-08T14:18:38.745452Z"
    }
   },
   "outputs": [],
   "source": [
    "df_temp = pd.get_dummies(df[cat_cols],drop_first=True)\n",
    "df.drop(cat_cols,axis=1,inplace=True)"
   ]
  },
  {
   "cell_type": "code",
   "execution_count": 43,
   "id": "6ccbbf5b",
   "metadata": {
    "ExecuteTime": {
     "end_time": "2022-09-08T14:18:42.230575Z",
     "start_time": "2022-09-08T14:18:42.215220Z"
    }
   },
   "outputs": [
    {
     "data": {
      "text/plain": [
       "['Nationality_DZA',\n",
       " 'Nationality_GRC',\n",
       " 'Nationality_NAM',\n",
       " 'Nationality_Others',\n",
       " 'Nationality_PRT',\n",
       " 'AverageLeadTime_NotLikely',\n",
       " 'DistributionChannel_Non Corporate',\n",
       " 'MarketSegment_Complementary',\n",
       " 'MarketSegment_Corporate',\n",
       " 'MarketSegment_Others']"
      ]
     },
     "execution_count": 43,
     "metadata": {},
     "output_type": "execute_result"
    }
   ],
   "source": [
    "one_hot_encoded_cat_cols = df_temp.columns.tolist()\n",
    "one_hot_encoded_cat_cols"
   ]
  },
  {
   "cell_type": "code",
   "execution_count": 44,
   "id": "a9375aa5",
   "metadata": {
    "ExecuteTime": {
     "end_time": "2022-09-08T14:18:43.841360Z",
     "start_time": "2022-09-08T14:18:43.635257Z"
    }
   },
   "outputs": [],
   "source": [
    "df[one_hot_encoded_cat_cols] = df_temp[one_hot_encoded_cat_cols].values.tolist()"
   ]
  },
  {
   "cell_type": "code",
   "execution_count": 45,
   "id": "ea42acd5",
   "metadata": {
    "ExecuteTime": {
     "end_time": "2022-09-08T14:18:45.166932Z",
     "start_time": "2022-09-08T14:18:45.163930Z"
    }
   },
   "outputs": [],
   "source": [
    "feat_cols_considered = [x for x in df.columns if x not in non_feat_cols]"
   ]
  },
  {
   "cell_type": "code",
   "execution_count": 46,
   "id": "aa872703",
   "metadata": {
    "ExecuteTime": {
     "end_time": "2022-09-08T14:18:47.311674Z",
     "start_time": "2022-09-08T14:18:47.244607Z"
    }
   },
   "outputs": [],
   "source": [
    "X = df[feat_cols_considered]\n",
    "y = df[TARGET]\n",
    "\n",
    "# split the X and y into training and validation data\n",
    "x_train,x_val,y_train,y_val = train_test_split(X,y,test_size=0.25,stratify=y,random_state=42)"
   ]
  },
  {
   "cell_type": "code",
   "execution_count": 47,
   "id": "6fa7e09b",
   "metadata": {
    "ExecuteTime": {
     "end_time": "2022-09-08T14:18:50.053007Z",
     "start_time": "2022-09-08T14:18:49.198620Z"
    }
   },
   "outputs": [],
   "source": [
    "# Rf is by default low bias and low variance model, hence can be used to get initial guess on \n",
    "# feature importance and model performance\n",
    "clf = RandomForestClassifier(random_state=42,class_weight='balanced')\n",
    "clf.fit(x_train,y_train)\n",
    "feat_imp_thr = np.quantile(clf.feature_importances_,0.75)\n",
    "# chosing features which have feature importance\n",
    "feats_selec = np.array(feat_cols_considered)[np.where(clf.feature_importances_>feat_imp_thr)].tolist()"
   ]
  },
  {
   "cell_type": "code",
   "execution_count": 48,
   "id": "0e248aab",
   "metadata": {
    "ExecuteTime": {
     "end_time": "2022-09-08T14:18:51.069050Z",
     "start_time": "2022-09-08T14:18:51.053529Z"
    }
   },
   "outputs": [
    {
     "data": {
      "text/plain": [
       "(8, 31)"
      ]
     },
     "execution_count": 48,
     "metadata": {},
     "output_type": "execute_result"
    }
   ],
   "source": [
    "len(feats_selec),len(feat_cols_considered)"
   ]
  },
  {
   "cell_type": "code",
   "execution_count": 49,
   "id": "91d93f44",
   "metadata": {
    "ExecuteTime": {
     "end_time": "2022-09-08T14:18:52.401338Z",
     "start_time": "2022-09-08T14:18:52.391236Z"
    }
   },
   "outputs": [
    {
     "data": {
      "text/plain": [
       "['DaysSinceCreation',\n",
       " 'LodgingRevenue',\n",
       " 'OtherRevenue',\n",
       " 'PersonsNights',\n",
       " 'RoomNights',\n",
       " 'DaysSinceLastStay',\n",
       " 'DaysSinceFirstStay',\n",
       " 'AverageLeadTime_NotLikely']"
      ]
     },
     "execution_count": 49,
     "metadata": {},
     "output_type": "execute_result"
    }
   ],
   "source": [
    "feats_selec"
   ]
  },
  {
   "cell_type": "code",
   "execution_count": 50,
   "id": "820c6690",
   "metadata": {
    "ExecuteTime": {
     "end_time": "2022-09-08T14:19:01.681882Z",
     "start_time": "2022-09-08T14:19:01.631377Z"
    }
   },
   "outputs": [
    {
     "data": {
      "text/html": [
       "<style>#sk-container-id-1 {color: black;background-color: white;}#sk-container-id-1 pre{padding: 0;}#sk-container-id-1 div.sk-toggleable {background-color: white;}#sk-container-id-1 label.sk-toggleable__label {cursor: pointer;display: block;width: 100%;margin-bottom: 0;padding: 0.3em;box-sizing: border-box;text-align: center;}#sk-container-id-1 label.sk-toggleable__label-arrow:before {content: \"▸\";float: left;margin-right: 0.25em;color: #696969;}#sk-container-id-1 label.sk-toggleable__label-arrow:hover:before {color: black;}#sk-container-id-1 div.sk-estimator:hover label.sk-toggleable__label-arrow:before {color: black;}#sk-container-id-1 div.sk-toggleable__content {max-height: 0;max-width: 0;overflow: hidden;text-align: left;background-color: #f0f8ff;}#sk-container-id-1 div.sk-toggleable__content pre {margin: 0.2em;color: black;border-radius: 0.25em;background-color: #f0f8ff;}#sk-container-id-1 input.sk-toggleable__control:checked~div.sk-toggleable__content {max-height: 200px;max-width: 100%;overflow: auto;}#sk-container-id-1 input.sk-toggleable__control:checked~label.sk-toggleable__label-arrow:before {content: \"▾\";}#sk-container-id-1 div.sk-estimator input.sk-toggleable__control:checked~label.sk-toggleable__label {background-color: #d4ebff;}#sk-container-id-1 div.sk-label input.sk-toggleable__control:checked~label.sk-toggleable__label {background-color: #d4ebff;}#sk-container-id-1 input.sk-hidden--visually {border: 0;clip: rect(1px 1px 1px 1px);clip: rect(1px, 1px, 1px, 1px);height: 1px;margin: -1px;overflow: hidden;padding: 0;position: absolute;width: 1px;}#sk-container-id-1 div.sk-estimator {font-family: monospace;background-color: #f0f8ff;border: 1px dotted black;border-radius: 0.25em;box-sizing: border-box;margin-bottom: 0.5em;}#sk-container-id-1 div.sk-estimator:hover {background-color: #d4ebff;}#sk-container-id-1 div.sk-parallel-item::after {content: \"\";width: 100%;border-bottom: 1px solid gray;flex-grow: 1;}#sk-container-id-1 div.sk-label:hover label.sk-toggleable__label {background-color: #d4ebff;}#sk-container-id-1 div.sk-serial::before {content: \"\";position: absolute;border-left: 1px solid gray;box-sizing: border-box;top: 0;bottom: 0;left: 50%;z-index: 0;}#sk-container-id-1 div.sk-serial {display: flex;flex-direction: column;align-items: center;background-color: white;padding-right: 0.2em;padding-left: 0.2em;position: relative;}#sk-container-id-1 div.sk-item {position: relative;z-index: 1;}#sk-container-id-1 div.sk-parallel {display: flex;align-items: stretch;justify-content: center;background-color: white;position: relative;}#sk-container-id-1 div.sk-item::before, #sk-container-id-1 div.sk-parallel-item::before {content: \"\";position: absolute;border-left: 1px solid gray;box-sizing: border-box;top: 0;bottom: 0;left: 50%;z-index: -1;}#sk-container-id-1 div.sk-parallel-item {display: flex;flex-direction: column;z-index: 1;position: relative;background-color: white;}#sk-container-id-1 div.sk-parallel-item:first-child::after {align-self: flex-end;width: 50%;}#sk-container-id-1 div.sk-parallel-item:last-child::after {align-self: flex-start;width: 50%;}#sk-container-id-1 div.sk-parallel-item:only-child::after {width: 0;}#sk-container-id-1 div.sk-dashed-wrapped {border: 1px dashed gray;margin: 0 0.4em 0.5em 0.4em;box-sizing: border-box;padding-bottom: 0.4em;background-color: white;}#sk-container-id-1 div.sk-label label {font-family: monospace;font-weight: bold;display: inline-block;line-height: 1.2em;}#sk-container-id-1 div.sk-label-container {text-align: center;}#sk-container-id-1 div.sk-container {/* jupyter's `normalize.less` sets `[hidden] { display: none; }` but bootstrap.min.css set `[hidden] { display: none !important; }` so we also need the `!important` here to be able to override the default hidden behavior on the sphinx rendered scikit-learn.org. See: https://github.com/scikit-learn/scikit-learn/issues/21755 */display: inline-block !important;position: relative;}#sk-container-id-1 div.sk-text-repr-fallback {display: none;}</style><div id=\"sk-container-id-1\" class=\"sk-top-container\"><div class=\"sk-text-repr-fallback\"><pre>MinMaxScaler()</pre><b>In a Jupyter environment, please rerun this cell to show the HTML representation or trust the notebook. <br />On GitHub, the HTML representation is unable to render, please try loading this page with nbviewer.org.</b></div><div class=\"sk-container\" hidden><div class=\"sk-item\"><div class=\"sk-estimator sk-toggleable\"><input class=\"sk-toggleable__control sk-hidden--visually\" id=\"sk-estimator-id-1\" type=\"checkbox\" checked><label for=\"sk-estimator-id-1\" class=\"sk-toggleable__label sk-toggleable__label-arrow\">MinMaxScaler</label><div class=\"sk-toggleable__content\"><pre>MinMaxScaler()</pre></div></div></div></div></div>"
      ],
      "text/plain": [
       "MinMaxScaler()"
      ]
     },
     "execution_count": 50,
     "metadata": {},
     "output_type": "execute_result"
    }
   ],
   "source": [
    "scaler = MinMaxScaler()\n",
    "scaler.fit(X[feats_selec])"
   ]
  },
  {
   "cell_type": "code",
   "execution_count": 51,
   "id": "facadc14",
   "metadata": {
    "ExecuteTime": {
     "end_time": "2022-09-08T14:19:03.909991Z",
     "start_time": "2022-09-08T14:19:03.894055Z"
    }
   },
   "outputs": [],
   "source": [
    "X_scaled = scaler.transform(X[feats_selec])\n",
    "X_scaled = pd.DataFrame(X_scaled,columns=feats_selec)"
   ]
  },
  {
   "cell_type": "code",
   "execution_count": 52,
   "id": "b821919f",
   "metadata": {
    "ExecuteTime": {
     "end_time": "2022-09-08T14:19:05.609909Z",
     "start_time": "2022-09-08T14:19:05.579029Z"
    }
   },
   "outputs": [],
   "source": [
    "# split the X and y into training and testing data\n",
    "x_train,x_val,y_train,y_val = train_test_split(X_scaled[feats_selec],y,\n",
    "                                                 test_size=0.25,stratify=y,random_state=42)"
   ]
  },
  {
   "cell_type": "code",
   "execution_count": 53,
   "id": "1ae80480",
   "metadata": {
    "ExecuteTime": {
     "end_time": "2022-09-08T14:19:08.377080Z",
     "start_time": "2022-09-08T14:19:08.368482Z"
    }
   },
   "outputs": [],
   "source": [
    "from keras.callbacks import EarlyStopping"
   ]
  },
  {
   "cell_type": "code",
   "execution_count": 54,
   "id": "d073dd98",
   "metadata": {
    "ExecuteTime": {
     "end_time": "2022-09-08T14:19:11.012612Z",
     "start_time": "2022-09-08T14:19:10.825006Z"
    }
   },
   "outputs": [],
   "source": [
    "optimizer_ = tf.keras.optimizers.Adam(learning_rate=0.0001)"
   ]
  },
  {
   "cell_type": "code",
   "execution_count": 55,
   "id": "4e2416d6",
   "metadata": {
    "ExecuteTime": {
     "end_time": "2022-09-08T14:19:59.911102Z",
     "start_time": "2022-09-08T14:19:17.175571Z"
    }
   },
   "outputs": [
    {
     "name": "stdout",
     "output_type": "stream",
     "text": [
      "Epoch 1/30\n",
      "1936/1936 [==============================] - 2s 766us/step - loss: 0.2040 - accuracy: 0.9781 - val_loss: 0.0439 - val_accuracy: 0.9936\n",
      "Epoch 2/30\n",
      "1936/1936 [==============================] - 1s 716us/step - loss: 0.0254 - accuracy: 0.9947 - val_loss: 0.0142 - val_accuracy: 0.9967\n",
      "Epoch 3/30\n",
      "1936/1936 [==============================] - 1s 699us/step - loss: 0.0106 - accuracy: 0.9973 - val_loss: 0.0066 - val_accuracy: 0.9987\n",
      "Epoch 4/30\n",
      "1936/1936 [==============================] - 1s 704us/step - loss: 0.0054 - accuracy: 0.9986 - val_loss: 0.0033 - val_accuracy: 0.9993\n",
      "Epoch 5/30\n",
      "1936/1936 [==============================] - 1s 702us/step - loss: 0.0029 - accuracy: 0.9992 - val_loss: 0.0018 - val_accuracy: 0.9997\n",
      "Epoch 6/30\n",
      "1936/1936 [==============================] - 1s 703us/step - loss: 0.0016 - accuracy: 0.9995 - val_loss: 9.9604e-04 - val_accuracy: 0.9998\n",
      "Epoch 7/30\n",
      "1936/1936 [==============================] - 1s 702us/step - loss: 9.6007e-04 - accuracy: 0.9998 - val_loss: 6.0574e-04 - val_accuracy: 1.0000\n",
      "Epoch 8/30\n",
      "1936/1936 [==============================] - 1s 701us/step - loss: 5.8650e-04 - accuracy: 0.9999 - val_loss: 3.7185e-04 - val_accuracy: 1.0000\n",
      "Epoch 9/30\n",
      "1936/1936 [==============================] - 1s 708us/step - loss: 3.7692e-04 - accuracy: 1.0000 - val_loss: 2.3679e-04 - val_accuracy: 1.0000\n",
      "Epoch 10/30\n",
      "1936/1936 [==============================] - 1s 705us/step - loss: 2.5012e-04 - accuracy: 1.0000 - val_loss: 1.6331e-04 - val_accuracy: 1.0000\n",
      "Epoch 11/30\n",
      "1936/1936 [==============================] - 1s 709us/step - loss: 1.6972e-04 - accuracy: 1.0000 - val_loss: 1.0848e-04 - val_accuracy: 1.0000\n",
      "Epoch 12/30\n",
      "1936/1936 [==============================] - 1s 714us/step - loss: 1.1985e-04 - accuracy: 1.0000 - val_loss: 7.6159e-05 - val_accuracy: 1.0000\n",
      "Epoch 13/30\n",
      "1936/1936 [==============================] - 1s 715us/step - loss: 8.6115e-05 - accuracy: 1.0000 - val_loss: 5.6249e-05 - val_accuracy: 1.0000\n",
      "Epoch 14/30\n",
      "1936/1936 [==============================] - 1s 712us/step - loss: 6.3959e-05 - accuracy: 1.0000 - val_loss: 4.1750e-05 - val_accuracy: 1.0000\n",
      "Epoch 15/30\n",
      "1936/1936 [==============================] - 1s 714us/step - loss: 4.7542e-05 - accuracy: 1.0000 - val_loss: 3.3315e-05 - val_accuracy: 1.0000\n",
      "Epoch 16/30\n",
      "1936/1936 [==============================] - 1s 713us/step - loss: 3.7517e-05 - accuracy: 1.0000 - val_loss: 2.4165e-05 - val_accuracy: 1.0000\n",
      "Epoch 17/30\n",
      "1936/1936 [==============================] - 1s 704us/step - loss: 3.0277e-05 - accuracy: 1.0000 - val_loss: 1.9080e-05 - val_accuracy: 1.0000\n",
      "Epoch 18/30\n",
      "1936/1936 [==============================] - 1s 725us/step - loss: 2.4243e-05 - accuracy: 1.0000 - val_loss: 1.4608e-05 - val_accuracy: 1.0000\n",
      "Epoch 19/30\n",
      "1936/1936 [==============================] - 1s 705us/step - loss: 2.0378e-05 - accuracy: 1.0000 - val_loss: 1.2097e-05 - val_accuracy: 1.0000\n",
      "Epoch 20/30\n",
      "1936/1936 [==============================] - 1s 709us/step - loss: 1.6780e-05 - accuracy: 1.0000 - val_loss: 1.0079e-05 - val_accuracy: 1.0000\n",
      "Epoch 21/30\n",
      "1936/1936 [==============================] - 1s 709us/step - loss: 1.4218e-05 - accuracy: 1.0000 - val_loss: 8.9146e-06 - val_accuracy: 1.0000\n",
      "Epoch 22/30\n",
      "1936/1936 [==============================] - 1s 709us/step - loss: 1.2040e-05 - accuracy: 1.0000 - val_loss: 7.0626e-06 - val_accuracy: 1.0000\n",
      "Epoch 23/30\n",
      "1936/1936 [==============================] - 1s 708us/step - loss: 1.0756e-05 - accuracy: 1.0000 - val_loss: 6.1012e-06 - val_accuracy: 1.0000\n",
      "Epoch 24/30\n",
      "1936/1936 [==============================] - 1s 706us/step - loss: 8.8677e-06 - accuracy: 1.0000 - val_loss: 5.2170e-06 - val_accuracy: 1.0000\n",
      "Epoch 25/30\n",
      "1936/1936 [==============================] - 1s 709us/step - loss: 8.1024e-06 - accuracy: 1.0000 - val_loss: 4.6493e-06 - val_accuracy: 1.0000\n",
      "Epoch 26/30\n",
      "1936/1936 [==============================] - 1s 710us/step - loss: 6.9845e-06 - accuracy: 1.0000 - val_loss: 3.9023e-06 - val_accuracy: 1.0000\n",
      "Epoch 27/30\n",
      "1936/1936 [==============================] - 1s 709us/step - loss: 6.5066e-06 - accuracy: 1.0000 - val_loss: 3.4690e-06 - val_accuracy: 1.0000\n",
      "Epoch 28/30\n",
      "1936/1936 [==============================] - 1s 717us/step - loss: 5.4879e-06 - accuracy: 1.0000 - val_loss: 2.8382e-06 - val_accuracy: 1.0000\n",
      "Epoch 29/30\n",
      "1936/1936 [==============================] - 1s 709us/step - loss: 5.1668e-06 - accuracy: 1.0000 - val_loss: 2.5330e-06 - val_accuracy: 1.0000\n",
      "Epoch 30/30\n",
      "1936/1936 [==============================] - 1s 711us/step - loss: 4.5844e-06 - accuracy: 1.0000 - val_loss: 2.2431e-06 - val_accuracy: 1.0000\n"
     ]
    }
   ],
   "source": [
    "model  = Sequential()\n",
    "model.add(Dense(100, activation = 'relu',input_shape = (x_train.shape[1],)))\n",
    "model.add(Dense(1, activation = 'sigmoid'))\n",
    "model.compile(optimizer = optimizer_, loss = 'binary_crossentropy', metrics = ['accuracy'])\n",
    "model_history = model.fit(x_train, y_train, \n",
    "                          validation_data = (x_val, y_val),epochs = 30)\n",
    "\n",
    "CallBack = EarlyStopping(monitor='val_loss',mode='min',verbose=1,patience=10)"
   ]
  },
  {
   "cell_type": "code",
   "execution_count": 56,
   "id": "1d997e76",
   "metadata": {
    "ExecuteTime": {
     "end_time": "2022-09-08T14:21:53.437611Z",
     "start_time": "2022-09-08T14:21:53.421002Z"
    }
   },
   "outputs": [],
   "source": [
    "model_train_loss = model_history.history['loss']\n",
    "model_val_loss = model_history.history['val_loss']"
   ]
  },
  {
   "cell_type": "code",
   "execution_count": 57,
   "id": "aa7cc3bf",
   "metadata": {
    "ExecuteTime": {
     "end_time": "2022-09-08T14:21:54.688168Z",
     "start_time": "2022-09-08T14:21:54.583473Z"
    }
   },
   "outputs": [
    {
     "data": {
      "image/png": "[encoded data removed]",
      "text/plain": [
       "<Figure size 864x288 with 1 Axes>"
      ]
     },
     "metadata": {
      "needs_background": "light"
     },
     "output_type": "display_data"
    }
   ],
   "source": [
    "plt.figure(figsize=(12,4))\n",
    "plt.plot(model_train_loss,color='blue')\n",
    "plt.plot(model_val_loss,color='orange')\n",
    "plt.xlabel(\"num epochs\")\n",
    "plt.ylabel(\"loss\")\n",
    "plt.grid(True);"
   ]
  },
  {
   "cell_type": "code",
   "execution_count": 58,
   "id": "64234eed",
   "metadata": {
    "ExecuteTime": {
     "end_time": "2022-09-08T14:21:56.858409Z",
     "start_time": "2022-09-08T14:21:56.841786Z"
    }
   },
   "outputs": [
    {
     "data": {
      "text/plain": [
       "['scaling_factor']"
      ]
     },
     "execution_count": 58,
     "metadata": {},
     "output_type": "execute_result"
    }
   ],
   "source": [
    "joblib.dump(scaler,\"scaling_factor\")"
   ]
  },
  {
   "cell_type": "code",
   "execution_count": 59,
   "id": "2d2f7403",
   "metadata": {
    "ExecuteTime": {
     "end_time": "2022-09-08T14:21:58.620113Z",
     "start_time": "2022-09-08T14:21:58.604611Z"
    }
   },
   "outputs": [],
   "source": [
    "scaling_factor = joblib.load(\"scaling_factor\")"
   ]
  },
  {
   "cell_type": "code",
   "execution_count": 60,
   "id": "63d70cb2",
   "metadata": {
    "ExecuteTime": {
     "end_time": "2022-09-08T14:22:02.824821Z",
     "start_time": "2022-09-08T14:22:02.810669Z"
    }
   },
   "outputs": [
    {
     "data": {
      "text/html": [
       "<style>#sk-container-id-2 {color: black;background-color: white;}#sk-container-id-2 pre{padding: 0;}#sk-container-id-2 div.sk-toggleable {background-color: white;}#sk-container-id-2 label.sk-toggleable__label {cursor: pointer;display: block;width: 100%;margin-bottom: 0;padding: 0.3em;box-sizing: border-box;text-align: center;}#sk-container-id-2 label.sk-toggleable__label-arrow:before {content: \"▸\";float: left;margin-right: 0.25em;color: #696969;}#sk-container-id-2 label.sk-toggleable__label-arrow:hover:before {color: black;}#sk-container-id-2 div.sk-estimator:hover label.sk-toggleable__label-arrow:before {color: black;}#sk-container-id-2 div.sk-toggleable__content {max-height: 0;max-width: 0;overflow: hidden;text-align: left;background-color: #f0f8ff;}#sk-container-id-2 div.sk-toggleable__content pre {margin: 0.2em;color: black;border-radius: 0.25em;background-color: #f0f8ff;}#sk-container-id-2 input.sk-toggleable__control:checked~div.sk-toggleable__content {max-height: 200px;max-width: 100%;overflow: auto;}#sk-container-id-2 input.sk-toggleable__control:checked~label.sk-toggleable__label-arrow:before {content: \"▾\";}#sk-container-id-2 div.sk-estimator input.sk-toggleable__control:checked~label.sk-toggleable__label {background-color: #d4ebff;}#sk-container-id-2 div.sk-label input.sk-toggleable__control:checked~label.sk-toggleable__label {background-color: #d4ebff;}#sk-container-id-2 input.sk-hidden--visually {border: 0;clip: rect(1px 1px 1px 1px);clip: rect(1px, 1px, 1px, 1px);height: 1px;margin: -1px;overflow: hidden;padding: 0;position: absolute;width: 1px;}#sk-container-id-2 div.sk-estimator {font-family: monospace;background-color: #f0f8ff;border: 1px dotted black;border-radius: 0.25em;box-sizing: border-box;margin-bottom: 0.5em;}#sk-container-id-2 div.sk-estimator:hover {background-color: #d4ebff;}#sk-container-id-2 div.sk-parallel-item::after {content: \"\";width: 100%;border-bottom: 1px solid gray;flex-grow: 1;}#sk-container-id-2 div.sk-label:hover label.sk-toggleable__label {background-color: #d4ebff;}#sk-container-id-2 div.sk-serial::before {content: \"\";position: absolute;border-left: 1px solid gray;box-sizing: border-box;top: 0;bottom: 0;left: 50%;z-index: 0;}#sk-container-id-2 div.sk-serial {display: flex;flex-direction: column;align-items: center;background-color: white;padding-right: 0.2em;padding-left: 0.2em;position: relative;}#sk-container-id-2 div.sk-item {position: relative;z-index: 1;}#sk-container-id-2 div.sk-parallel {display: flex;align-items: stretch;justify-content: center;background-color: white;position: relative;}#sk-container-id-2 div.sk-item::before, #sk-container-id-2 div.sk-parallel-item::before {content: \"\";position: absolute;border-left: 1px solid gray;box-sizing: border-box;top: 0;bottom: 0;left: 50%;z-index: -1;}#sk-container-id-2 div.sk-parallel-item {display: flex;flex-direction: column;z-index: 1;position: relative;background-color: white;}#sk-container-id-2 div.sk-parallel-item:first-child::after {align-self: flex-end;width: 50%;}#sk-container-id-2 div.sk-parallel-item:last-child::after {align-self: flex-start;width: 50%;}#sk-container-id-2 div.sk-parallel-item:only-child::after {width: 0;}#sk-container-id-2 div.sk-dashed-wrapped {border: 1px dashed gray;margin: 0 0.4em 0.5em 0.4em;box-sizing: border-box;padding-bottom: 0.4em;background-color: white;}#sk-container-id-2 div.sk-label label {font-family: monospace;font-weight: bold;display: inline-block;line-height: 1.2em;}#sk-container-id-2 div.sk-label-container {text-align: center;}#sk-container-id-2 div.sk-container {/* jupyter's `normalize.less` sets `[hidden] { display: none; }` but bootstrap.min.css set `[hidden] { display: none !important; }` so we also need the `!important` here to be able to override the default hidden behavior on the sphinx rendered scikit-learn.org. See: https://github.com/scikit-learn/scikit-learn/issues/21755 */display: inline-block !important;position: relative;}#sk-container-id-2 div.sk-text-repr-fallback {display: none;}</style><div id=\"sk-container-id-2\" class=\"sk-top-container\"><div class=\"sk-text-repr-fallback\"><pre>MinMaxScaler()</pre><b>In a Jupyter environment, please rerun this cell to show the HTML representation or trust the notebook. <br />On GitHub, the HTML representation is unable to render, please try loading this page with nbviewer.org.</b></div><div class=\"sk-container\" hidden><div class=\"sk-item\"><div class=\"sk-estimator sk-toggleable\"><input class=\"sk-toggleable__control sk-hidden--visually\" id=\"sk-estimator-id-2\" type=\"checkbox\" checked><label for=\"sk-estimator-id-2\" class=\"sk-toggleable__label sk-toggleable__label-arrow\">MinMaxScaler</label><div class=\"sk-toggleable__content\"><pre>MinMaxScaler()</pre></div></div></div></div></div>"
      ],
      "text/plain": [
       "MinMaxScaler()"
      ]
     },
     "execution_count": 60,
     "metadata": {},
     "output_type": "execute_result"
    }
   ],
   "source": [
    "scaling_factor"
   ]
  },
  {
   "cell_type": "code",
   "execution_count": 61,
   "id": "a72b47f4",
   "metadata": {
    "ExecuteTime": {
     "end_time": "2022-09-08T14:22:04.823540Z",
     "start_time": "2022-09-08T14:22:04.780961Z"
    }
   },
   "outputs": [],
   "source": [
    "# read the data\n",
    "df_test = pd.read_csv(test_file_path)\n",
    "df_test.drop([\"Unnamed: 0\",\"BookingsNoShowed\",\"BookingsCanceled\"],axis=1,inplace=True)\n",
    "\n",
    "for feat in [\"LodgingRevenue\",\"OtherRevenue\",\"RoomNights\",\"PersonsNights\"]:\n",
    "    max_lim = np.quantile(df[feat],0.95)\n",
    "    df_test[feat] = np.where(df_test[feat]>max_lim,max_lim,df_test[feat])\n",
    "\n",
    "\n",
    "df_test[\"Nationality\"] = np.where(~df_test[\"Nationality\"].isin(Nationality_Concern),\"Others\",\\\n",
    "                                  df_test[\"Nationality\"])\n",
    "\n",
    "df_test[\"DistributionChannel\"] = np.where(df_test[\"DistributionChannel\"]==\"Corporate\",\n",
    "                                          \"Corporate\",\"Non Corporate\")\n",
    "\n",
    "df_test[\"MarketSegment\"] = np.where(~df_test[\"MarketSegment\"].isin(Market_Segment_Concern),\n",
    "                                    \"Others\",df_test[\"MarketSegment\"])\n",
    "\n",
    "\n",
    "\n",
    "df_test[\"AverageLeadTime\"] = np.where(df_test[\"AverageLeadTime\"]>0,\"Likely\",\"NotLikely\")\n",
    "\n",
    "df_test[\"Age\"] = np.where(df_test[\"Age\"]>max_val_lim_feat,max_val_lim_feat,df_test[\"Age\"])\n",
    "df_test[\"Age\"] = np.where(df_test[\"Age\"]<min_val_lim_feat,min_val_lim_feat,df_test[\"Age\"])\n",
    "df_test[\"Age\"] = np.where(df_test.Age.isna(),df.Age.median(),df_test.Age)\n",
    "\n",
    "df_test['BookingsCheckedIn'] = np.where(df_test['BookingsCheckedIn']>0,True,False)\n",
    "\n",
    "df_temp_test = pd.get_dummies(df_test[cat_cols])\n",
    "rem_cat_col = [x for x in one_hot_encoded_cat_cols if x not in df_temp_test.columns]\n",
    "df_temp_test[rem_cat_col] = 0\n",
    "\n",
    "df_test.drop(cat_cols,axis=1,inplace=True)\n",
    "df_test[one_hot_encoded_cat_cols] = df_temp_test[one_hot_encoded_cat_cols].values.tolist()"
   ]
  },
  {
   "cell_type": "code",
   "execution_count": 62,
   "id": "3c274f70",
   "metadata": {
    "ExecuteTime": {
     "end_time": "2022-09-08T14:22:06.836277Z",
     "start_time": "2022-09-08T14:22:06.830546Z"
    }
   },
   "outputs": [],
   "source": [
    "x_test = df_test[feats_selec]\n",
    "y_test = df_test[TARGET].values\n",
    "x_test_scaled = scaling_factor.transform(x_test)"
   ]
  },
  {
   "cell_type": "code",
   "execution_count": 63,
   "id": "a43eb1ca",
   "metadata": {
    "ExecuteTime": {
     "end_time": "2022-09-08T14:22:07.551637Z",
     "start_time": "2022-09-08T14:22:07.548636Z"
    }
   },
   "outputs": [],
   "source": [
    "x_test_scaled = pd.DataFrame(x_test_scaled,columns=feats_selec)"
   ]
  },
  {
   "cell_type": "code",
   "execution_count": 64,
   "id": "6ccea882",
   "metadata": {
    "ExecuteTime": {
     "end_time": "2022-09-08T14:22:08.355482Z",
     "start_time": "2022-09-08T14:22:08.260256Z"
    }
   },
   "outputs": [],
   "source": [
    "y_pred_prob = model.predict(x_test_scaled)\n",
    "y_pred_prob = [x[0] for x in y_pred_prob]\n",
    "y_pred = np.where(np.array(y_pred_prob)>0.5,True,False).tolist()"
   ]
  },
  {
   "cell_type": "code",
   "execution_count": 65,
   "id": "981a0d0a",
   "metadata": {
    "ExecuteTime": {
     "end_time": "2022-09-08T14:22:09.411579Z",
     "start_time": "2022-09-08T14:22:09.392779Z"
    }
   },
   "outputs": [],
   "source": [
    "df_report = pd.DataFrame()\n",
    "df_report['Actual'] = y_test.tolist()\n",
    "df_report['Prediction'] = y_pred"
   ]
  },
  {
   "cell_type": "code",
   "execution_count": 67,
   "id": "c8086030",
   "metadata": {
    "ExecuteTime": {
     "end_time": "2022-09-08T14:22:37.743166Z",
     "start_time": "2022-09-08T14:22:37.737165Z"
    }
   },
   "outputs": [],
   "source": [
    "def get_confusion_matrix(y_test,y_pred,cmap_=\"Pastel2\",title_=None,label_font_size=14):\n",
    "    \n",
    "    # Pastel2,Pastel1,gnuplot2,Set3_r -- best\n",
    "    sns.heatmap(pd.crosstab(y_test,y_pred),annot=True, cmap=cmap_ ,\\\n",
    "            fmt='d',linecolor='white',\\\n",
    "            cbar=False,linewidths=3)\n",
    "    plt.xlabel(\"Predicted\",fontsize=label_font_size*0.85)\n",
    "    plt.ylabel(\"Actual\",fontsize=label_font_size*0.85)\n",
    "    plt.xticks(rotation=45,fontsize=label_font_size)\n",
    "    plt.yticks(rotation=45,fontsize=label_font_size)\n",
    "    title_ = \"Confusion Matrix\" if title_ is None else title_\n",
    "    plt.title(title_,fontsize=16);"
   ]
  },
  {
   "cell_type": "code",
   "execution_count": 68,
   "id": "6fe75c22",
   "metadata": {
    "ExecuteTime": {
     "end_time": "2022-09-08T14:22:38.781206Z",
     "start_time": "2022-09-08T14:22:38.684371Z"
    }
   },
   "outputs": [
    {
     "data": {
      "image/png": "[encoded data removed]",
      "text/plain": [
       "<Figure size 432x288 with 1 Axes>"
      ]
     },
     "metadata": {
      "needs_background": "light"
     },
     "output_type": "display_data"
    }
   ],
   "source": [
    "get_confusion_matrix(df_report.Actual,df_report.Prediction,cmap_='gnuplot')"
   ]
  },
  {
   "cell_type": "code",
   "execution_count": 69,
   "id": "4f666b01",
   "metadata": {
    "ExecuteTime": {
     "end_time": "2022-09-08T14:22:40.884347Z",
     "start_time": "2022-09-08T14:22:40.876842Z"
    }
   },
   "outputs": [
    {
     "name": "stdout",
     "output_type": "stream",
     "text": [
      "Classification report at 0.5 threshold\n",
      "              precision    recall  f1-score   support\n",
      "\n",
      "       False       1.00      1.00      1.00       521\n",
      "        True       1.00      1.00      1.00       479\n",
      "\n",
      "    accuracy                           1.00      1000\n",
      "   macro avg       1.00      1.00      1.00      1000\n",
      "weighted avg       1.00      1.00      1.00      1000\n",
      "\n"
     ]
    }
   ],
   "source": [
    "print(\"Classification report at 0.5 threshold\")\n",
    "print(classification_report(df_report.Actual,df_report.Prediction))"
   ]
  },
  {
   "cell_type": "code",
   "execution_count": 70,
   "id": "2ca02c7a",
   "metadata": {
    "ExecuteTime": {
     "end_time": "2022-09-08T14:22:42.413230Z",
     "start_time": "2022-09-08T14:22:42.356092Z"
    }
   },
   "outputs": [],
   "source": [
    "model.save(\"ANN_Model.h5\")"
   ]
  }
 ],
 "metadata": {
  "kernelspec": {
   "display_name": "Python 3 (ipykernel)",
   "language": "python",
   "name": "python3"
  },
  "language_info": {
   "codemirror_mode": {
    "name": "ipython",
    "version": 3
   },
   "file_extension": ".py",
   "mimetype": "text/x-python",
   "name": "python",
   "nbconvert_exporter": "python",
   "pygments_lexer": "ipython3",
   "version": "3.9.7"
  },
  "toc": {
   "base_numbering": 1,
   "nav_menu": {},
   "number_sections": true,
   "sideBar": true,
   "skip_h1_title": false,
   "title_cell": "Table of Contents",
   "title_sidebar": "Contents",
   "toc_cell": false,
   "toc_position": {},
   "toc_section_display": true,
   "toc_window_display": false
  },
  "varInspector": {
   "cols": {
    "lenName": 16,
    "lenType": 16,
    "lenVar": 40
   },
   "kernels_config": {
    "python": {
     "delete_cmd_postfix": "",
     "delete_cmd_prefix": "del ",
     "library": "var_list.py",
     "varRefreshCmd": "print(var_dic_list())"
    },
    "r": {
     "delete_cmd_postfix": ") ",
     "delete_cmd_prefix": "rm(",
     "library": "var_list.r",
     "varRefreshCmd": "cat(var_dic_list()) "
    }
   },
   "types_to_exclude": [
    "module",
    "function",
    "builtin_function_or_method",
    "instance",
    "_Feature"
   ],
   "window_display": false
  }
 },
 "nbformat": 4,
 "nbformat_minor": 5
}
